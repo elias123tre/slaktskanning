{
 "cells": [
  {
   "cell_type": "markdown",
   "metadata": {},
   "source": [
    "A script for making automated scanning jobs for the HP Envy 4500 printer.\n",
    "\n",
    "Reverse-engineered the webscan service att http://192.168.1.17/#hId-pgWebScan"
   ]
  },
  {
   "cell_type": "code",
   "execution_count": 47,
   "metadata": {},
   "outputs": [],
   "source": [
    "import requests\n",
    "import shutil\n",
    "from PIL import Image\n",
    "import xml.etree.ElementTree as ET\n"
   ]
  },
  {
   "cell_type": "code",
   "execution_count": 48,
   "metadata": {},
   "outputs": [],
   "source": [
    "# printer ip address\n",
    "PRINTER = \"http://192.168.1.17\"\n",
    "SCHEMA = \"{http://www.hp.com/schemas/imaging/con/ledm/jobs/2009/04/30}\"\n",
    "\n",
    "cookies = {\n",
    "    \"sid\": \"s0538708d-811ba985e173db93169e975baf2840b7\",\n",
    "    \"mobileView\": \"0\",\n",
    "}\n",
    "headers = {\n",
    "    \"User-Agent\": \"Mozilla/5.0 (Windows NT 10.0; Win64; x64; rv:101.0) Gecko/20100101 Firefox/101.0\",\n",
    "    \"Accept\": \"application/xml, text/xml, */*\",\n",
    "    \"Accept-Language\": \"en,sv-SE;q=0.8,sv;q=0.5,en-US;q=0.3\",\n",
    "    # 'Accept-Encoding': 'gzip, deflate',\n",
    "    \"DNT\": \"1\",\n",
    "    \"Connection\": \"keep-alive\",\n",
    "    \"Referer\": PRINTER,\n",
    "    # Requests sorts cookies= alphabetically\n",
    "    # 'Cookie': 'sid=s0538708d-811ba985e173db93169e975baf2840b7; mobileView=0',\n",
    "    \"Pragma\": \"no-cache\",\n",
    "    \"Cache-Control\": \"no-cache\",\n",
    "}\n",
    "\n"
   ]
  },
  {
   "cell_type": "markdown",
   "metadata": {},
   "source": [
    "# Get scanner status"
   ]
  },
  {
   "cell_type": "code",
   "execution_count": 49,
   "metadata": {},
   "outputs": [],
   "source": [
    "response = requests.get(\n",
    "    f\"{PRINTER}/Scan/Status\", headers=headers\n",
    ")\n",
    "\n",
    "root = ET.fromstring(response.content)\n",
    "for child in root.iter():\n",
    "    if child.tag.endswith(\"ScannerState\"):\n",
    "        break\n",
    "else:\n",
    "    print(\"Could not get ScannerState\")\n",
    "\n",
    "if child.text != \"Idle\":\n",
    "    print(f\"Scanner is not idle: {child.text}\")\n"
   ]
  },
  {
   "cell_type": "markdown",
   "metadata": {},
   "source": [
    "# Start scanning job"
   ]
  },
  {
   "cell_type": "code",
   "execution_count": 50,
   "metadata": {},
   "outputs": [
    {
     "data": {
      "text/html": [
       "<pre style=\"white-space:pre;overflow-x:auto;line-height:normal;font-family:Menlo,'DejaVu Sans Mono',consolas,'Courier New',monospace\"><span style=\"font-weight: bold\">&lt;</span><span style=\"color: #ff00ff; text-decoration-color: #ff00ff; font-weight: bold\">Response</span><span style=\"color: #000000; text-decoration-color: #000000\"> </span><span style=\"color: #000000; text-decoration-color: #000000; font-weight: bold\">[</span><span style=\"color: #008080; text-decoration-color: #008080; font-weight: bold\">201</span><span style=\"color: #000000; text-decoration-color: #000000; font-weight: bold\">]</span><span style=\"font-weight: bold\">&gt;</span>\n",
       "</pre>\n"
      ],
      "text/plain": [
       "\u001b[1m<\u001b[0m\u001b[1;95mResponse\u001b[0m\u001b[39m \u001b[0m\u001b[1;39m[\u001b[0m\u001b[1;36m201\u001b[0m\u001b[1;39m]\u001b[0m\u001b[1m>\u001b[0m\n"
      ]
     },
     "metadata": {},
     "output_type": "display_data"
    }
   ],
   "source": [
    "dpi = 600 # higher is better, in range 75-600\n",
    "compression = 0 # lower is better - 0 = no compression, 100 = full compression\n",
    "\n",
    "scan_post = f\"\"\"\n",
    "<scan:ScanJob xmlns:scan=\"http://www.hp.com/schemas/imaging/con/cnx/scan/2008/08/19\" xmlns:dd=\"http://www.hp.com/schemas/imaging/con/dictionaries/1.0/\" xmlns:fw=\"http://www.hp.com/schemas/imaging/con/firewall/2011/01/05\">\n",
    "    <scan:XResolution>{dpi}</scan:XResolution>\n",
    "    <scan:YResolution>{dpi}</scan:YResolution>\n",
    "    <scan:XStart>0</scan:XStart>\n",
    "    <scan:YStart>0</scan:YStart>\n",
    "    <scan:Width>2480</scan:Width>\n",
    "    <scan:Height>3508</scan:Height>\n",
    "    <scan:Format>Jpeg</scan:Format>\n",
    "    <scan:CompressionQFactor>{compression}</scan:CompressionQFactor>\n",
    "    <scan:ColorSpace>Color</scan:ColorSpace>\n",
    "    <scan:BitDepth>8</scan:BitDepth>\n",
    "    <scan:InputSource>Platen</scan:InputSource>\n",
    "    <scan:GrayRendering>NTSC</scan:GrayRendering>\n",
    "    <scan:ToneMap>\n",
    "        <scan:Gamma>1000</scan:Gamma>\n",
    "        <scan:Brightness>1000</scan:Brightness>\n",
    "        <scan:Contrast>1000</scan:Contrast>\n",
    "        <scan:Highlite>179</scan:Highlite>\n",
    "        <scan:Shadow>25</scan:Shadow>\n",
    "    </scan:ToneMap>\n",
    "    <scan:ContentType>Photo</scan:ContentType>\n",
    "</scan:ScanJob>\n",
    "\"\"\".strip()\n",
    "\n",
    "response = requests.post(\n",
    "    f\"{PRINTER}/Scan/Jobs\",\n",
    "    cookies=cookies,\n",
    "    headers={\"Content-Type\": \"text/xml\", **headers},\n",
    "    data=scan_post,\n",
    ")\n",
    "response.raise_for_status()\n",
    "response\n"
   ]
  },
  {
   "cell_type": "markdown",
   "metadata": {},
   "source": [
    "# Get job list"
   ]
  },
  {
   "cell_type": "code",
   "execution_count": 51,
   "metadata": {},
   "outputs": [
    {
     "data": {
      "text/html": [
       "<pre style=\"white-space:pre;overflow-x:auto;line-height:normal;font-family:Menlo,'DejaVu Sans Mono',consolas,'Courier New',monospace\">\n",
       "<span style=\"font-weight: bold\">[</span>\n",
       "    <span style=\"font-weight: bold\">{</span>\n",
       "        <span style=\"color: #008000; text-decoration-color: #008000\">'JobUrl'</span>: <span style=\"color: #008000; text-decoration-color: #008000\">'/Jobs/JobList/8'</span>,\n",
       "        <span style=\"color: #008000; text-decoration-color: #008000\">'JobCategory'</span>: <span style=\"color: #008000; text-decoration-color: #008000\">'Scan'</span>,\n",
       "        <span style=\"color: #008000; text-decoration-color: #008000\">'JobState'</span>: <span style=\"color: #008000; text-decoration-color: #008000\">'Canceled'</span>,\n",
       "        <span style=\"color: #008000; text-decoration-color: #008000\">'JobStateUpdate'</span>: <span style=\"color: #008000; text-decoration-color: #008000\">'1456-26'</span>,\n",
       "        <span style=\"color: #008000; text-decoration-color: #008000\">'JobSource'</span>: <span style=\"color: #008000; text-decoration-color: #008000\">'userIO'</span>\n",
       "    <span style=\"font-weight: bold\">}</span>,\n",
       "    <span style=\"font-weight: bold\">{</span>\n",
       "        <span style=\"color: #008000; text-decoration-color: #008000\">'JobUrl'</span>: <span style=\"color: #008000; text-decoration-color: #008000\">'/Jobs/JobList/9'</span>,\n",
       "        <span style=\"color: #008000; text-decoration-color: #008000\">'JobCategory'</span>: <span style=\"color: #008000; text-decoration-color: #008000\">'Scan'</span>,\n",
       "        <span style=\"color: #008000; text-decoration-color: #008000\">'JobState'</span>: <span style=\"color: #008000; text-decoration-color: #008000\">'Completed'</span>,\n",
       "        <span style=\"color: #008000; text-decoration-color: #008000\">'JobStateUpdate'</span>: <span style=\"color: #008000; text-decoration-color: #008000\">'1456-30'</span>,\n",
       "        <span style=\"color: #008000; text-decoration-color: #008000\">'JobSource'</span>: <span style=\"color: #008000; text-decoration-color: #008000\">'userIO'</span>\n",
       "    <span style=\"font-weight: bold\">}</span>,\n",
       "    <span style=\"font-weight: bold\">{</span>\n",
       "        <span style=\"color: #008000; text-decoration-color: #008000\">'JobUrl'</span>: <span style=\"color: #008000; text-decoration-color: #008000\">'/Jobs/JobList/10'</span>,\n",
       "        <span style=\"color: #008000; text-decoration-color: #008000\">'JobCategory'</span>: <span style=\"color: #008000; text-decoration-color: #008000\">'Scan'</span>,\n",
       "        <span style=\"color: #008000; text-decoration-color: #008000\">'JobState'</span>: <span style=\"color: #008000; text-decoration-color: #008000\">'Completed'</span>,\n",
       "        <span style=\"color: #008000; text-decoration-color: #008000\">'JobStateUpdate'</span>: <span style=\"color: #008000; text-decoration-color: #008000\">'1456-34'</span>,\n",
       "        <span style=\"color: #008000; text-decoration-color: #008000\">'JobSource'</span>: <span style=\"color: #008000; text-decoration-color: #008000\">'userIO'</span>\n",
       "    <span style=\"font-weight: bold\">}</span>,\n",
       "    <span style=\"font-weight: bold\">{</span>\n",
       "        <span style=\"color: #008000; text-decoration-color: #008000\">'JobUrl'</span>: <span style=\"color: #008000; text-decoration-color: #008000\">'/Jobs/JobList/11'</span>,\n",
       "        <span style=\"color: #008000; text-decoration-color: #008000\">'JobCategory'</span>: <span style=\"color: #008000; text-decoration-color: #008000\">'Scan'</span>,\n",
       "        <span style=\"color: #008000; text-decoration-color: #008000\">'JobState'</span>: <span style=\"color: #008000; text-decoration-color: #008000\">'Processing'</span>,\n",
       "        <span style=\"color: #008000; text-decoration-color: #008000\">'JobStateUpdate'</span>: <span style=\"color: #008000; text-decoration-color: #008000\">'1456-37'</span>,\n",
       "        <span style=\"color: #008000; text-decoration-color: #008000\">'JobSource'</span>: <span style=\"color: #008000; text-decoration-color: #008000\">'userIO'</span>,\n",
       "        <span style=\"color: #008000; text-decoration-color: #008000\">'{http://www.hp.com/schemas/imaging/con/cnx/scan/2008/08/19}ScanJob'</span>: <span style=\"color: #008000; text-decoration-color: #008000\">'\\n   '</span>\n",
       "    <span style=\"font-weight: bold\">}</span>\n",
       "<span style=\"font-weight: bold\">]</span>\n",
       "</pre>\n"
      ],
      "text/plain": [
       "\n",
       "\u001b[1m[\u001b[0m\n",
       "    \u001b[1m{\u001b[0m\n",
       "        \u001b[32m'JobUrl'\u001b[0m: \u001b[32m'/Jobs/JobList/8'\u001b[0m,\n",
       "        \u001b[32m'JobCategory'\u001b[0m: \u001b[32m'Scan'\u001b[0m,\n",
       "        \u001b[32m'JobState'\u001b[0m: \u001b[32m'Canceled'\u001b[0m,\n",
       "        \u001b[32m'JobStateUpdate'\u001b[0m: \u001b[32m'1456-26'\u001b[0m,\n",
       "        \u001b[32m'JobSource'\u001b[0m: \u001b[32m'userIO'\u001b[0m\n",
       "    \u001b[1m}\u001b[0m,\n",
       "    \u001b[1m{\u001b[0m\n",
       "        \u001b[32m'JobUrl'\u001b[0m: \u001b[32m'/Jobs/JobList/9'\u001b[0m,\n",
       "        \u001b[32m'JobCategory'\u001b[0m: \u001b[32m'Scan'\u001b[0m,\n",
       "        \u001b[32m'JobState'\u001b[0m: \u001b[32m'Completed'\u001b[0m,\n",
       "        \u001b[32m'JobStateUpdate'\u001b[0m: \u001b[32m'1456-30'\u001b[0m,\n",
       "        \u001b[32m'JobSource'\u001b[0m: \u001b[32m'userIO'\u001b[0m\n",
       "    \u001b[1m}\u001b[0m,\n",
       "    \u001b[1m{\u001b[0m\n",
       "        \u001b[32m'JobUrl'\u001b[0m: \u001b[32m'/Jobs/JobList/10'\u001b[0m,\n",
       "        \u001b[32m'JobCategory'\u001b[0m: \u001b[32m'Scan'\u001b[0m,\n",
       "        \u001b[32m'JobState'\u001b[0m: \u001b[32m'Completed'\u001b[0m,\n",
       "        \u001b[32m'JobStateUpdate'\u001b[0m: \u001b[32m'1456-34'\u001b[0m,\n",
       "        \u001b[32m'JobSource'\u001b[0m: \u001b[32m'userIO'\u001b[0m\n",
       "    \u001b[1m}\u001b[0m,\n",
       "    \u001b[1m{\u001b[0m\n",
       "        \u001b[32m'JobUrl'\u001b[0m: \u001b[32m'/Jobs/JobList/11'\u001b[0m,\n",
       "        \u001b[32m'JobCategory'\u001b[0m: \u001b[32m'Scan'\u001b[0m,\n",
       "        \u001b[32m'JobState'\u001b[0m: \u001b[32m'Processing'\u001b[0m,\n",
       "        \u001b[32m'JobStateUpdate'\u001b[0m: \u001b[32m'1456-37'\u001b[0m,\n",
       "        \u001b[32m'JobSource'\u001b[0m: \u001b[32m'userIO'\u001b[0m,\n",
       "        \u001b[32m'\u001b[0m\u001b[32m{\u001b[0m\u001b[32mhttp://www.hp.com/schemas/imaging/con/cnx/scan/2008/08/19\u001b[0m\u001b[32m}\u001b[0m\u001b[32mScanJob'\u001b[0m: \u001b[32m'\\n   '\u001b[0m\n",
       "    \u001b[1m}\u001b[0m\n",
       "\u001b[1m]\u001b[0m\n"
      ]
     },
     "metadata": {},
     "output_type": "display_data"
    }
   ],
   "source": [
    "response = requests.get(f\"{PRINTER}/Jobs/JobList\", cookies=cookies, headers=headers)\n",
    "response.raise_for_status()\n",
    "root = ET.fromstring(response.content)\n",
    "jobs = [{attr.tag.removeprefix(SCHEMA): attr.text for attr in job} for job in root]\n",
    "scan_jobs = [job for job in jobs if job[\"JobCategory\"] == \"Scan\"]\n",
    "scan_jobs"
   ]
  },
  {
   "cell_type": "markdown",
   "metadata": {},
   "source": [
    "# Get job status"
   ]
  },
  {
   "cell_type": "code",
   "execution_count": 52,
   "metadata": {},
   "outputs": [
    {
     "name": "stdout",
     "output_type": "stream",
     "text": [
      "{'JobUrl': '/Jobs/JobList/11', 'JobCategory': 'Scan', 'JobState': 'Processing', 'JobStateUpdate': '1456-37', 'JobSource': 'userIO', '{http://www.hp.com/schemas/imaging/con/cnx/scan/2008/08/19}ScanJob': '\\n   '}\n"
     ]
    },
    {
     "data": {
      "text/html": [
       "<pre style=\"white-space:pre;overflow-x:auto;line-height:normal;font-family:Menlo,'DejaVu Sans Mono',consolas,'Courier New',monospace\"><span style=\"font-weight: bold\">&lt;</span><span style=\"color: #ff00ff; text-decoration-color: #ff00ff; font-weight: bold\">Response</span><span style=\"color: #000000; text-decoration-color: #000000\"> </span><span style=\"color: #000000; text-decoration-color: #000000; font-weight: bold\">[</span><span style=\"color: #008080; text-decoration-color: #008080; font-weight: bold\">200</span><span style=\"color: #000000; text-decoration-color: #000000; font-weight: bold\">]</span><span style=\"font-weight: bold\">&gt;</span>\n",
       "</pre>\n"
      ],
      "text/plain": [
       "\u001b[1m<\u001b[0m\u001b[1;95mResponse\u001b[0m\u001b[39m \u001b[0m\u001b[1;39m[\u001b[0m\u001b[1;36m200\u001b[0m\u001b[1;39m]\u001b[0m\u001b[1m>\u001b[0m\n"
      ]
     },
     "metadata": {},
     "output_type": "display_data"
    }
   ],
   "source": [
    "job = scan_jobs[-1]\n",
    "response = requests.get(\n",
    "    f'{PRINTER}{job[\"JobUrl\"]}', cookies=cookies, headers=headers\n",
    ")\n",
    "response.raise_for_status()\n",
    "root = ET.fromstring(response.content)\n",
    "job = {attr.tag.removeprefix(SCHEMA): attr.text for attr in root}\n",
    "print(job)\n",
    "response\n",
    "# \"Processing\""
   ]
  },
  {
   "cell_type": "markdown",
   "metadata": {},
   "source": [
    "# Download scanned page"
   ]
  },
  {
   "cell_type": "code",
   "execution_count": 53,
   "metadata": {},
   "outputs": [],
   "source": [
    "filename = \"scan.jpg\"\n",
    "job_id = job[\"JobUrl\"].split(\"/\")[-1]\n",
    "\n",
    "with requests.get(\n",
    "    f\"{PRINTER}/Scan/Jobs/{job_id}/Pages/1\",\n",
    "    cookies=cookies,\n",
    "    headers=headers,\n",
    "    stream=True,\n",
    ") as r:\n",
    "    with open(filename, \"wb\") as f:\n",
    "        shutil.copyfileobj(r.raw, f)\n"
   ]
  },
  {
   "cell_type": "markdown",
   "metadata": {},
   "source": [
    "# Resize image"
   ]
  },
  {
   "cell_type": "code",
   "execution_count": null,
   "metadata": {},
   "outputs": [],
   "source": [
    "def downscale(filename: str, size: int, quality: int):\n",
    "    with Image.open(filename) as im:\n",
    "        im.thumbnail((size, size))\n",
    "        [file, ext] = filename.rsplit(\".\", 1)\n",
    "        im.save(f\"{file}_{size}p_{quality}q.{ext}\", quality=quality)\n",
    "\n",
    "downscale(filename, 2560, 65)"
   ]
  }
 ],
 "metadata": {
  "interpreter": {
   "hash": "26de051ba29f2982a8de78e945f0abaf191376122a1563185a90213a26c5da77"
  },
  "kernelspec": {
   "display_name": "Python 3.10.0 64-bit",
   "language": "python",
   "name": "python3"
  },
  "language_info": {
   "codemirror_mode": {
    "name": "ipython",
    "version": 3
   },
   "file_extension": ".py",
   "mimetype": "text/x-python",
   "name": "python",
   "nbconvert_exporter": "python",
   "pygments_lexer": "ipython3",
   "version": "3.10.0"
  },
  "orig_nbformat": 4
 },
 "nbformat": 4,
 "nbformat_minor": 2
}
