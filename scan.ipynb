{
 "cells": [
  {
   "cell_type": "markdown",
   "metadata": {},
   "source": [
    "A script for making automated scanning jobs for the HP Envy 4500 printer.\n",
    "\n",
    "Reverse-engineered the webscan service att http://192.168.1.17/#hId-pgWebScan"
   ]
  },
  {
   "cell_type": "code",
   "execution_count": null,
   "metadata": {},
   "outputs": [],
   "source": [
    "import requests\n",
    "import xml.etree.ElementTree as ET\n"
   ]
  },
  {
   "cell_type": "code",
   "execution_count": null,
   "metadata": {},
   "outputs": [],
   "source": [
    "# printer ip address\n",
    "PRINTER = \"http://192.168.1.17\"\n",
    "\n",
    "cookies = {\n",
    "    \"sid\": \"s0538708d-811ba985e173db93169e975baf2840b7\",\n",
    "    \"mobileView\": \"0\",\n",
    "}\n",
    "headers = {\n",
    "    \"User-Agent\": \"Mozilla/5.0 (Windows NT 10.0; Win64; x64; rv:101.0) Gecko/20100101 Firefox/101.0\",\n",
    "    \"Accept\": \"application/xml, text/xml, */*\",\n",
    "    \"Accept-Language\": \"en,sv-SE;q=0.8,sv;q=0.5,en-US;q=0.3\",\n",
    "    # 'Accept-Encoding': 'gzip, deflate',\n",
    "    \"DNT\": \"1\",\n",
    "    \"Connection\": \"keep-alive\",\n",
    "    \"Referer\": PRINTER,\n",
    "    # Requests sorts cookies= alphabetically\n",
    "    # 'Cookie': 'sid=s0538708d-811ba985e173db93169e975baf2840b7; mobileView=0',\n",
    "    \"Pragma\": \"no-cache\",\n",
    "    \"Cache-Control\": \"no-cache\",\n",
    "}\n",
    "\n"
   ]
  },
  {
   "cell_type": "markdown",
   "metadata": {},
   "source": [
    "# Get scanner status"
   ]
  },
  {
   "cell_type": "code",
   "execution_count": null,
   "metadata": {},
   "outputs": [],
   "source": [
    "response = requests.get(\n",
    "    f\"{PRINTER}/Scan/Status\", headers=headers\n",
    ")\n",
    "\n",
    "root = ET.fromstring(response.content)\n",
    "for child in root.iter():\n",
    "    if child.tag.endswith(\"ScannerState\"):\n",
    "        break\n",
    "else:\n",
    "    print(\"Could not get ScannerState\")\n",
    "\n",
    "if child.text != \"Idle\":\n",
    "    print(f\"Scanner is not idle: {child.text}\")\n"
   ]
  },
  {
   "cell_type": "markdown",
   "metadata": {},
   "source": [
    "# Start scanning job"
   ]
  },
  {
   "cell_type": "code",
   "execution_count": null,
   "metadata": {},
   "outputs": [],
   "source": [
    "dpi = 200\n",
    "quality = 25\n",
    "\n",
    "data = f\"\"\"\n",
    "<scan:ScanJob xmlns:scan=\"http://www.hp.com/schemas/imaging/con/cnx/scan/2008/08/19\" xmlns:dd=\"http://www.hp.com/schemas/imaging/con/dictionaries/1.0/\" xmlns:fw=\"http://www.hp.com/schemas/imaging/con/firewall/2011/01/05\">\n",
    "    <scan:XResolution>{dpi}</scan:XResolution>\n",
    "    <scan:YResolution>{dpi}</scan:YResolution>\n",
    "    <scan:XStart>0</scan:XStart>\n",
    "    <scan:YStart>0</scan:YStart>\n",
    "    <scan:Width>2480</scan:Width>\n",
    "    <scan:Height>3508</scan:Height>\n",
    "    <scan:Format>Jpeg</scan:Format>\n",
    "    <scan:CompressionQFactor>{quality}</scan:CompressionQFactor>\n",
    "    <scan:ColorSpace>Color</scan:ColorSpace>\n",
    "    <scan:BitDepth>8</scan:BitDepth>\n",
    "    <scan:InputSource>Platen</scan:InputSource>\n",
    "    <scan:GrayRendering>NTSC</scan:GrayRendering>\n",
    "    <scan:ToneMap>\n",
    "        <scan:Gamma>1000</scan:Gamma>\n",
    "        <scan:Brightness>1000</scan:Brightness>\n",
    "        <scan:Contrast>1000</scan:Contrast>\n",
    "        <scan:Highlite>179</scan:Highlite>\n",
    "        <scan:Shadow>25</scan:Shadow>\n",
    "    </scan:ToneMap>\n",
    "    <scan:ContentType>Photo</scan:ContentType>\n",
    "</scan:ScanJob>\n",
    "\"\"\".strip()\n",
    "\n",
    "response = requests.post(\n",
    "    f\"{PRINTER}/Scan/Jobs\",\n",
    "    cookies=cookies,\n",
    "    headers={\"Content-Type\": \"text/xml\", **headers},\n",
    "    data=data,\n",
    ")\n",
    "response\n"
   ]
  },
  {
   "cell_type": "markdown",
   "metadata": {},
   "source": [
    "# Get job list"
   ]
  },
  {
   "cell_type": "code",
   "execution_count": null,
   "metadata": {},
   "outputs": [],
   "source": [
    "response = requests.get(f\"{PRINTER}/Jobs/JobList\", cookies=cookies, headers=headers)\n"
   ]
  },
  {
   "cell_type": "code",
   "execution_count": null,
   "metadata": {},
   "outputs": [],
   "source": [
    "root = ET.fromstring(response.content)\n",
    "print(root)\n"
   ]
  },
  {
   "cell_type": "markdown",
   "metadata": {},
   "source": [
    "# Get job status"
   ]
  },
  {
   "cell_type": "code",
   "execution_count": null,
   "metadata": {},
   "outputs": [],
   "source": [
    "response = requests.get(\n",
    "    f\"{PRINTER}/Jobs/JobList/1\", cookies=cookies, headers=headers\n",
    ")\n"
   ]
  },
  {
   "cell_type": "markdown",
   "metadata": {},
   "source": [
    "# Get scanned page"
   ]
  },
  {
   "cell_type": "code",
   "execution_count": null,
   "metadata": {},
   "outputs": [],
   "source": [
    "response = requests.get(\n",
    "    f\"{PRINTER}/Scan/Jobs/1/Pages/1\", cookies=cookies, headers=headers\n",
    ")"
   ]
  }
 ],
 "metadata": {
  "interpreter": {
   "hash": "19d1d53a962d236aa061289c2ac16dc8e6d9648c89fe79f459ae9a3493bc67b4"
  },
  "kernelspec": {
   "display_name": "Python 3.9.0 ('base')",
   "language": "python",
   "name": "python3"
  },
  "language_info": {
   "codemirror_mode": {
    "name": "ipython",
    "version": 3
   },
   "file_extension": ".py",
   "mimetype": "text/x-python",
   "name": "python",
   "nbconvert_exporter": "python",
   "pygments_lexer": "ipython3",
   "version": "3.9.0"
  },
  "orig_nbformat": 4
 },
 "nbformat": 4,
 "nbformat_minor": 2
}
